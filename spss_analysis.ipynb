{
 "cells": [
  {
   "cell_type": "markdown",
   "id": "43a4933c",
   "metadata": {},
   "source": [
    "# SPSS 데이터 분석\n",
    "특정 문항(7번, 15번, 19번, 31번, 37번)의 기술통계 분석을 수행합니다."
   ]
  },
  {
   "cell_type": "code",
   "execution_count": null,
   "id": "e599a6db",
   "metadata": {},
   "outputs": [],
   "source": [
    "# 필요한 라이브러리 설치\n",
    "!pip install pyreadstat pandas numpy\n",
    "\n",
    "# 라이브러리 임포트\n",
    "import pandas as pd\n",
    "import numpy as np\n",
    "import pyreadstat"
   ]
  },
  {
   "cell_type": "code",
   "execution_count": null,
   "id": "2b60224a",
   "metadata": {},
   "outputs": [],
   "source": [
    "# SPSS 파일 읽기\n",
    "try:\n",
    "    df, meta = pyreadstat.read_sav('pdata2024.sav')\n",
    "    print(\"데이터 로드 성공\")\n",
    "    print(f\"샘플 수: {len(df)}\")\n",
    "    print(\"\\n특정 문항 통계 분석:\")\n",
    "    \n",
    "    # 원하는 문항만 선택\n",
    "    selected_items = ['q7', 'q15', 'q19', 'q31', 'q37']  # SPSS 변수명에 맞게 수정 필요\n",
    "    stats = df[selected_items].agg(['count', 'mean', 'std', 'min', 'median', 'max'])\n",
    "    \n",
    "    # 결과 출력\n",
    "    print(\"\\n=== 기술통계 분석 결과 ===\")\n",
    "    print(stats.round(3))\n",
    "    \n",
    "except FileNotFoundError:\n",
    "    print(\"SPSS 파일을 찾을 수 없습니다. 파일 경로를 확인해주세요.\")\n",
    "except Exception as e:\n",
    "    print(f\"오류 발생: {str(e)}\")"
   ]
  }
 ],
 "metadata": {
  "language_info": {
   "name": "python"
  }
 },
 "nbformat": 4,
 "nbformat_minor": 5
}
