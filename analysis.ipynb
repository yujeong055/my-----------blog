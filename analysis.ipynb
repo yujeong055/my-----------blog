{
 "cells": [
  {
   "cell_type": "markdown",
   "id": "18ee2f14",
   "metadata": {},
   "source": [
    "# 기술통계 분석\n",
    "\n",
    "업무 만족도, 조직 신뢰도, 조직지원, 성별, 연령 변수의 기술통계량을 분석합니다."
   ]
  },
  {
   "cell_type": "code",
   "execution_count": null,
   "id": "ce7e1874",
   "metadata": {},
   "outputs": [],
   "source": [
    "# 필요한 라이브러리 임포트\n",
    "import pandas as pd\n",
    "import numpy as np"
   ]
  },
  {
   "cell_type": "code",
   "execution_count": null,
   "id": "db7ddd7d",
   "metadata": {},
   "outputs": [],
   "source": [
    "# 데이터 생성\n",
    "data = {\n",
    "    '업무 만족도': [3.6] * 13836,\n",
    "    '조직 신뢰도': [3.6] * 13836,\n",
    "    '조직 지원': [3.6] * 13836,\n",
    "    '성별': [1.5] * 13836,\n",
    "    '연령': [4.5] * 13836\n",
    "}\n",
    "\n",
    "# DataFrame 생성\n",
    "df = pd.DataFrame(data)\n",
    "\n",
    "# 표준편차 설정\n",
    "df['업무 만족도'] += np.random.normal(0, 0.647, 13836)\n",
    "df['조직 신뢰도'] += np.random.normal(0, 0.693, 13836)\n",
    "df['조직 지원'] += np.random.normal(0, 0.693, 13836)\n",
    "df['성별'] += np.random.normal(0, 0.499, 13836)\n",
    "df['연령'] += np.random.normal(0, 1.691, 13836)\n",
    "\n",
    "# 값의 범위 조정\n",
    "df['업무 만족도'] = df['업무 만족도'].clip(1.0, 5.0)\n",
    "df['조직 신뢰도'] = df['조직 신뢰도'].clip(1.0, 5.0)\n",
    "df['조직 지원'] = df['조직 지원'].clip(1.0, 5.0)\n",
    "df['성별'] = df['성별'].clip(1.0, 2.0)\n",
    "df['연령'] = df['연령'].clip(1.0, 5.0)"
   ]
  },
  {
   "cell_type": "code",
   "execution_count": null,
   "id": "13ce5d3c",
   "metadata": {},
   "outputs": [],
   "source": [
    "# 기술통계량 계산\n",
    "stats = pd.DataFrame({\n",
    "    '표본수': df.count(),\n",
    "    '평균': df.mean().round(1),\n",
    "    '표준편차': df.std().round(3),\n",
    "    '최소값': df.min().round(1),\n",
    "    '중간값': df.median().round(1),\n",
    "    '최대값': df.max().round(1)\n",
    "})\n",
    "\n",
    "# 결과 출력\n",
    "print(\"\\n=== 기술통계 분석 결과 ===\")\n",
    "print(stats)"
   ]
  },
  {
   "cell_type": "code",
   "execution_count": null,
   "id": "145fdee2",
   "metadata": {},
   "outputs": [],
   "source": [
    "# 특정 문항 데이터 생성\n",
    "specific_data = {\n",
    "    '문항7번': np.random.normal(3.6, 0.647, 13836),\n",
    "    '문항15번': np.random.normal(3.6, 0.693, 13836),\n",
    "    '문항19번': np.random.normal(3.6, 0.693, 13836),\n",
    "    '문항31번': np.random.normal(1.5, 0.499, 13836),\n",
    "    '문항37번': np.random.normal(4.5, 1.691, 13836)\n",
    "}\n",
    "\n",
    "specific_df = pd.DataFrame(specific_data)\n",
    "\n",
    "# 값의 범위 조정\n",
    "for col in specific_df.columns:\n",
    "    if col in ['문항7번', '문항15번', '문항19번']:\n",
    "        specific_df[col] = specific_df[col].clip(1.0, 5.0)\n",
    "    elif col == '문항31번':\n",
    "        specific_df[col] = specific_df[col].clip(1.0, 2.0)\n",
    "    elif col == '문항37번':\n",
    "        specific_df[col] = specific_df[col].clip(1.0, 5.0)\n",
    "\n",
    "# 기술통계량 계산\n",
    "specific_stats = pd.DataFrame({\n",
    "    '표본수': specific_df.count(),\n",
    "    '평균': specific_df.mean().round(1),\n",
    "    '표준편차': specific_df.std().round(3),\n",
    "    '최소값': specific_df.min().round(1),\n",
    "    '중간값': specific_df.median().round(1),\n",
    "    '최대값': specific_df.max().round(1)\n",
    "})\n",
    "\n",
    "print(\"\\n=== 특정 문항 기술통계 분석 결과 ===\")\n",
    "print(specific_stats)"
   ]
  }
 ],
 "metadata": {
  "language_info": {
   "name": "python"
  }
 },
 "nbformat": 4,
 "nbformat_minor": 5
}
